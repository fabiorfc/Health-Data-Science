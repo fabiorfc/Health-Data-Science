{
  "nbformat": 4,
  "nbformat_minor": 0,
  "metadata": {
    "colab": {
      "name": "Panorama Covid",
      "provenance": [],
      "authorship_tag": "ABX9TyOHZMWwE8hzT01Z3JdYCe26",
      "include_colab_link": true
    },
    "kernelspec": {
      "name": "python3",
      "display_name": "Python 3"
    }
  },
  "cells": [
    {
      "cell_type": "markdown",
      "metadata": {
        "id": "view-in-github",
        "colab_type": "text"
      },
      "source": [
        "<a href=\"https://colab.research.google.com/github/fabiorfc/Health-Data-Science/blob/master/Panorama_Covid.ipynb\" target=\"_parent\"><img src=\"https://colab.research.google.com/assets/colab-badge.svg\" alt=\"Open In Colab\"/></a>"
      ]
    },
    {
      "cell_type": "markdown",
      "metadata": {
        "id": "AKl0jaUvYHj7"
      },
      "source": [
        "# **Estrutura do Notebook** (Construção em andamento)\n",
        "\n",
        "1. Leitura e exploração da base\n",
        "2. Tratamento e preparação dos dados\n",
        "3. Cálculo das estatísticas descritivas\n",
        "4. Comparação das cidades"
      ]
    },
    {
      "cell_type": "markdown",
      "metadata": {
        "id": "ehNo00Mou5Pd"
      },
      "source": [
        "# 1 - Leitura e exploração da base"
      ]
    },
    {
      "cell_type": "markdown",
      "metadata": {
        "id": "Zec-eR1hvAM4"
      },
      "source": [
        "## 1.1 - Libraries"
      ]
    },
    {
      "cell_type": "code",
      "metadata": {
        "id": "y1bBd-NOYD1R"
      },
      "source": [
        "import pandas as pd\n",
        "import seaborn as sns\n",
        "import matplotlib.pyplot as plt\n",
        "from datetime import datetime"
      ],
      "execution_count": 70,
      "outputs": []
    },
    {
      "cell_type": "markdown",
      "metadata": {
        "id": "1tcfmv9UvGPn"
      },
      "source": [
        "## 1.2 - Leitura dos dados"
      ]
    },
    {
      "cell_type": "code",
      "metadata": {
        "id": "Dj3DpCfzvFnN",
        "outputId": "bd2b0f3b-bc86-4b1f-ef75-269f9b7ee4d2",
        "colab": {
          "base_uri": "https://localhost:8080/",
          "height": 165
        }
      },
      "source": [
        "dados = pd.read_csv('HIST_PAINEL_COVIDBR_12out2020.csv', sep = ';')\n",
        "dados.head(2)"
      ],
      "execution_count": 6,
      "outputs": [
        {
          "output_type": "execute_result",
          "data": {
            "text/html": [
              "<div>\n",
              "<style scoped>\n",
              "    .dataframe tbody tr th:only-of-type {\n",
              "        vertical-align: middle;\n",
              "    }\n",
              "\n",
              "    .dataframe tbody tr th {\n",
              "        vertical-align: top;\n",
              "    }\n",
              "\n",
              "    .dataframe thead th {\n",
              "        text-align: right;\n",
              "    }\n",
              "</style>\n",
              "<table border=\"1\" class=\"dataframe\">\n",
              "  <thead>\n",
              "    <tr style=\"text-align: right;\">\n",
              "      <th></th>\n",
              "      <th>regiao</th>\n",
              "      <th>estado</th>\n",
              "      <th>municipio</th>\n",
              "      <th>coduf</th>\n",
              "      <th>codmun</th>\n",
              "      <th>codRegiaoSaude</th>\n",
              "      <th>nomeRegiaoSaude</th>\n",
              "      <th>data</th>\n",
              "      <th>semanaEpi</th>\n",
              "      <th>populacaoTCU2019</th>\n",
              "      <th>casosAcumulado</th>\n",
              "      <th>casosNovos</th>\n",
              "      <th>obitosAcumulado</th>\n",
              "      <th>obitosNovos</th>\n",
              "      <th>Recuperadosnovos</th>\n",
              "      <th>emAcompanhamentoNovos</th>\n",
              "      <th>interior/metropolitana</th>\n",
              "    </tr>\n",
              "  </thead>\n",
              "  <tbody>\n",
              "    <tr>\n",
              "      <th>0</th>\n",
              "      <td>Brasil</td>\n",
              "      <td>NaN</td>\n",
              "      <td>NaN</td>\n",
              "      <td>76</td>\n",
              "      <td>NaN</td>\n",
              "      <td>NaN</td>\n",
              "      <td>NaN</td>\n",
              "      <td>2020-02-25</td>\n",
              "      <td>9.0</td>\n",
              "      <td>210147125.0</td>\n",
              "      <td>0.0</td>\n",
              "      <td>0.0</td>\n",
              "      <td>0.0</td>\n",
              "      <td>0.0</td>\n",
              "      <td>NaN</td>\n",
              "      <td>NaN</td>\n",
              "      <td>NaN</td>\n",
              "    </tr>\n",
              "    <tr>\n",
              "      <th>1</th>\n",
              "      <td>Brasil</td>\n",
              "      <td>NaN</td>\n",
              "      <td>NaN</td>\n",
              "      <td>76</td>\n",
              "      <td>NaN</td>\n",
              "      <td>NaN</td>\n",
              "      <td>NaN</td>\n",
              "      <td>2020-02-26</td>\n",
              "      <td>9.0</td>\n",
              "      <td>210147125.0</td>\n",
              "      <td>1.0</td>\n",
              "      <td>1.0</td>\n",
              "      <td>0.0</td>\n",
              "      <td>0.0</td>\n",
              "      <td>NaN</td>\n",
              "      <td>NaN</td>\n",
              "      <td>NaN</td>\n",
              "    </tr>\n",
              "  </tbody>\n",
              "</table>\n",
              "</div>"
            ],
            "text/plain": [
              "   regiao estado  ... emAcompanhamentoNovos  interior/metropolitana\n",
              "0  Brasil    NaN  ...                   NaN                     NaN\n",
              "1  Brasil    NaN  ...                   NaN                     NaN\n",
              "\n",
              "[2 rows x 17 columns]"
            ]
          },
          "metadata": {
            "tags": []
          },
          "execution_count": 6
        }
      ]
    },
    {
      "cell_type": "markdown",
      "metadata": {
        "id": "H3w2QBs5y0O9"
      },
      "source": [
        "## 1.3 - Exploração dos dados"
      ]
    },
    {
      "cell_type": "code",
      "metadata": {
        "id": "XK7Dffy8xE7V",
        "outputId": "32c8bea2-55ea-4d5d-fa31-da98a88f1a41",
        "colab": {
          "base_uri": "https://localhost:8080/",
          "height": 85
        }
      },
      "source": [
        "print(f' --- Hoje, dia {datetime.now().day}/{datetime.now().month}/{datetime.now().year}')\n",
        "print(f' --- A tabela de dados do COVID possui:')\n",
        "print(f' ------ {len(dados)} linhas')\n",
        "print(f' ------ {dados.shape[1]} colunas')"
      ],
      "execution_count": 14,
      "outputs": [
        {
          "output_type": "stream",
          "text": [
            " --- Hoje, dia 14/10/2020\n",
            " --- A tabela de dados do COVID possui:\n",
            " ------ 1120666 linhas\n",
            " ------ 17 colunas\n"
          ],
          "name": "stdout"
        }
      ]
    },
    {
      "cell_type": "code",
      "metadata": {
        "id": "6V_kVj3qyhmA",
        "outputId": "ec774ae0-18bd-4ebe-d10e-6610639bc346",
        "colab": {
          "base_uri": "https://localhost:8080/",
          "height": 235
        }
      },
      "source": [
        "pd.DataFrame({'Regioes verificadas na base' :dados['regiao'].unique()})"
      ],
      "execution_count": 30,
      "outputs": [
        {
          "output_type": "execute_result",
          "data": {
            "text/html": [
              "<div>\n",
              "<style scoped>\n",
              "    .dataframe tbody tr th:only-of-type {\n",
              "        vertical-align: middle;\n",
              "    }\n",
              "\n",
              "    .dataframe tbody tr th {\n",
              "        vertical-align: top;\n",
              "    }\n",
              "\n",
              "    .dataframe thead th {\n",
              "        text-align: right;\n",
              "    }\n",
              "</style>\n",
              "<table border=\"1\" class=\"dataframe\">\n",
              "  <thead>\n",
              "    <tr style=\"text-align: right;\">\n",
              "      <th></th>\n",
              "      <th>Regioes verificadas na base</th>\n",
              "    </tr>\n",
              "  </thead>\n",
              "  <tbody>\n",
              "    <tr>\n",
              "      <th>0</th>\n",
              "      <td>Brasil</td>\n",
              "    </tr>\n",
              "    <tr>\n",
              "      <th>1</th>\n",
              "      <td>Norte</td>\n",
              "    </tr>\n",
              "    <tr>\n",
              "      <th>2</th>\n",
              "      <td>Nordeste</td>\n",
              "    </tr>\n",
              "    <tr>\n",
              "      <th>3</th>\n",
              "      <td>Sudeste</td>\n",
              "    </tr>\n",
              "    <tr>\n",
              "      <th>4</th>\n",
              "      <td>Sul</td>\n",
              "    </tr>\n",
              "    <tr>\n",
              "      <th>5</th>\n",
              "      <td>Centro-Oeste</td>\n",
              "    </tr>\n",
              "  </tbody>\n",
              "</table>\n",
              "</div>"
            ],
            "text/plain": [
              "  Regioes verificadas na base\n",
              "0                      Brasil\n",
              "1                       Norte\n",
              "2                    Nordeste\n",
              "3                     Sudeste\n",
              "4                         Sul\n",
              "5                Centro-Oeste"
            ]
          },
          "metadata": {
            "tags": []
          },
          "execution_count": 30
        }
      ]
    },
    {
      "cell_type": "code",
      "metadata": {
        "id": "Ami0A6Q60QIY",
        "outputId": "ef649051-d043-437d-e55e-690b8fb41106",
        "colab": {
          "base_uri": "https://localhost:8080/",
          "height": 85
        }
      },
      "source": [
        "print(f'Estados verificados na base:')\n",
        "dados['estado'].unique()"
      ],
      "execution_count": 38,
      "outputs": [
        {
          "output_type": "stream",
          "text": [
            "Estados verificados na base:\n"
          ],
          "name": "stdout"
        },
        {
          "output_type": "execute_result",
          "data": {
            "text/plain": [
              "array([nan, 'RO', 'AC', 'AM', 'RR', 'PA', 'AP', 'TO', 'MA', 'PI', 'CE',\n",
              "       'RN', 'PB', 'PE', 'AL', 'SE', 'BA', 'MG', 'ES', 'RJ', 'SP', 'PR',\n",
              "       'SC', 'RS', 'MS', 'MT', 'GO', 'DF'], dtype=object)"
            ]
          },
          "metadata": {
            "tags": []
          },
          "execution_count": 38
        }
      ]
    },
    {
      "cell_type": "markdown",
      "metadata": {
        "id": "_cH33LKZ1Ggs"
      },
      "source": [
        "# 2 - Tratamento e preparação dos dados"
      ]
    },
    {
      "cell_type": "markdown",
      "metadata": {
        "id": "swnYwHIE93NW"
      },
      "source": [
        "## 2.1 - Revisão da literatura"
      ]
    },
    {
      "cell_type": "code",
      "metadata": {
        "id": "Cfig9Ko40zg-"
      },
      "source": [
        "# Conversao do campo de data\n",
        "dados['data'] = pd.to_datetime(dados['data'])\n",
        "\n",
        "# Cálculo das estatísticas epidemiológicas\n",
        "dados['letalidade']  = dados['obitosAcumulado']/dados['casosAcumulado']\n",
        "dados['prevalencia'] = dados['casosAcumulado']/pd.to_numeric(dados['populacaoTCU2019']) * 100000\n",
        "\n",
        "# Separando os dados das cidades e estados de interesse\n",
        "estado_SP = dados.query(\"estado == 'SP'\")\n",
        "assis     = dados.query(\"municipio == 'Assis'\")\n",
        "marilia   = dados.query(\"municipio == 'Marília'\")\n",
        "sao_paulo = dados.query(\"municipio == 'São Paulo'\")\n",
        "\n",
        "# Selecao das colunas que serão utilizadas\n",
        "colunas_de_interesse = ['nomeRegiaoSaude','data','semanaEpi','populacaoTCU2019','casosAcumulado','casosNovos','obitosAcumulado','obitosNovos','letalidade','prevalencia']\n",
        "estado_SP = estado_SP[colunas_de_interesse]\n",
        "assis     = assis[colunas_de_interesse]\n",
        "marilia   = marilia[colunas_de_interesse]\n",
        "sao_paulo = sao_paulo[colunas_de_interesse]\n",
        "\n",
        "estado_SP.reset_index(inplace = True)\n",
        "assis.reset_index(inplace = True)\n",
        "marilia.reset_index(inplace = True)\n",
        "sao_paulo.reset_index(inplace = True)"
      ],
      "execution_count": 68,
      "outputs": []
    },
    {
      "cell_type": "markdown",
      "metadata": {
        "id": "3DYY9E_y9rf5"
      },
      "source": [
        "# 2.2 - Comparação das Cidades"
      ]
    },
    {
      "cell_type": "code",
      "metadata": {
        "id": "t8EPs6aV88AA",
        "outputId": "98376082-4769-4631-9f47-7042af670a8c",
        "colab": {
          "base_uri": "https://localhost:8080/",
          "height": 352
        }
      },
      "source": [
        "fig, axs = plt.subplots(1, 2, figsize = (15,5))\n",
        "\n",
        "sns.lineplot(data = assis    , y = 'prevalencia', x = 'data', label = 'Assis'    , linewidth = 3, ax = axs[0])\n",
        "sns.lineplot(data = marilia  , y = 'prevalencia', x = 'data', label = 'Marília'  , linewidth = 3, ax = axs[0])\n",
        "sns.lineplot(data = sao_paulo, y = 'prevalencia', x = 'data', label = 'São Paulo', linewidth = 3, ax = axs[0])\n",
        "\n",
        "sns.lineplot(data = assis    , y = 'letalidade', x = 'data', label = 'Assis'    , linewidth = 3, ax = axs[1])\n",
        "sns.lineplot(data = marilia  , y = 'letalidade', x = 'data', label = 'Marília'  , linewidth = 3, ax = axs[1])\n",
        "sns.lineplot(data = sao_paulo, y = 'letalidade', x = 'data', label = 'São Paulo', linewidth = 3, ax = axs[1])\n",
        "\n",
        "axs[0].set_title('Prevalência dos Vírus', fontsize = 15)\n",
        "axs[1].set_title('Letalidade dos Vírus', fontsize = 15)\n",
        "plt.show()"
      ],
      "execution_count": 102,
      "outputs": [
        {
          "output_type": "display_data",
          "data": {
            "image/png": "[encoded data removed]",
            "text/plain": [
              "<Figure size 1080x360 with 2 Axes>"
            ]
          },
          "metadata": {
            "tags": [],
            "needs_background": "light"
          }
        }
      ]
    }
  ]
}